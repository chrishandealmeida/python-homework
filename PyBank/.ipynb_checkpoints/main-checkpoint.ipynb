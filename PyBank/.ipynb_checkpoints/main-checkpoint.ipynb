{
 "cells": [
  {
   "cell_type": "code",
   "execution_count": 2,
   "id": "contemporary-swiss",
   "metadata": {},
   "outputs": [
    {
     "name": "stdout",
     "output_type": "stream",
     "text": [
      "budget_data.csv\n"
     ]
    },
    {
     "ename": "NameError",
     "evalue": "name 'csvpaht' is not defined",
     "output_type": "error",
     "traceback": [
      "\u001b[1;31m---------------------------------------------------------------------------\u001b[0m",
      "\u001b[1;31mNameError\u001b[0m                                 Traceback (most recent call last)",
      "\u001b[1;32m<ipython-input-2-8ef005dcf44e>\u001b[0m in \u001b[0;36m<module>\u001b[1;34m\u001b[0m\n\u001b[0;32m      4\u001b[0m \u001b[0mprint\u001b[0m\u001b[1;33m(\u001b[0m\u001b[0mcsvpath\u001b[0m\u001b[1;33m)\u001b[0m\u001b[1;33m\u001b[0m\u001b[1;33m\u001b[0m\u001b[0m\n\u001b[0;32m      5\u001b[0m \u001b[1;33m\u001b[0m\u001b[0m\n\u001b[1;32m----> 6\u001b[1;33m \u001b[1;32mwith\u001b[0m \u001b[0mopen\u001b[0m\u001b[1;33m(\u001b[0m\u001b[0mcsvpaht\u001b[0m\u001b[1;33m,\u001b[0m \u001b[1;34m'r'\u001b[0m\u001b[1;33m)\u001b[0m \u001b[1;32mas\u001b[0m \u001b[0mcsvfile\u001b[0m\u001b[1;33m:\u001b[0m\u001b[1;33m\u001b[0m\u001b[1;33m\u001b[0m\u001b[0m\n\u001b[0m\u001b[0;32m      7\u001b[0m     \u001b[0mprint\u001b[0m\u001b[1;33m(\u001b[0m\u001b[0mtype\u001b[0m\u001b[1;33m(\u001b[0m\u001b[0mcsvfile\u001b[0m\u001b[1;33m)\u001b[0m\u001b[1;33m)\u001b[0m\u001b[1;33m\u001b[0m\u001b[1;33m\u001b[0m\u001b[0m\n",
      "\u001b[1;31mNameError\u001b[0m: name 'csvpaht' is not defined"
     ]
    }
   ],
   "source": [
    "# Import CSV File\n",
    "from pathlib import Path\n",
    "csvpath = Path('budget_data.csv')\n",
    "print(csvpath)\n",
    "\n",
    "with open(csvpath, 'r') as csvfile:\n",
    "    print(type(csvfile))\n",
    "    \n",
    "    csvreader = csv.reader(csvfile, delimiters',')\n",
    "    print(type(csvreader))"
   ]
  },
  {
   "cell_type": "code",
   "execution_count": null,
   "id": "grave-visitor",
   "metadata": {},
   "outputs": [],
   "source": [
    "# Initialize the metric variables\n",
    "total_months = 0\n",
    "net_total_income = 0\n",
    "average_change = 0\n",
    "greatest_increase_in_profits = 0\n",
    "greatest_decrease_in_profits = 0"
   ]
  },
  {
   "cell_type": "code",
   "execution_count": null,
   "id": "sustainable-desktop",
   "metadata": {},
   "outputs": [],
   "source": [
    "# The total number of months included in the dataset.\n",
    "total_months="
   ]
  },
  {
   "cell_type": "code",
   "execution_count": null,
   "id": "broke-mexico",
   "metadata": {},
   "outputs": [],
   "source": [
    "# The net total amount of Profit/Losses over the entire period.\n",
    "net_total_income="
   ]
  },
  {
   "cell_type": "code",
   "execution_count": null,
   "id": "controversial-darwin",
   "metadata": {},
   "outputs": [],
   "source": [
    "# The average of the changes in Profit/Losses over the entire period.\n",
    "average_change="
   ]
  },
  {
   "cell_type": "code",
   "execution_count": null,
   "id": "wireless-monitoring",
   "metadata": {},
   "outputs": [],
   "source": [
    "# The greatest increase in profits (date and amount) over the entire period.\n",
    "greatest_increase_in_profits="
   ]
  },
  {
   "cell_type": "code",
   "execution_count": null,
   "id": "fitted-spokesman",
   "metadata": {},
   "outputs": [],
   "source": [
    "# The greatest decrease in profits (date and amount) over the entire period.\n",
    "greatest_decrease_in_profits="
   ]
  },
  {
   "cell_type": "code",
   "execution_count": 1,
   "id": "presidential-billy",
   "metadata": {},
   "outputs": [
    {
     "name": "stdout",
     "output_type": "stream",
     "text": [
      "Financial Analysis\n"
     ]
    }
   ],
   "source": [
    "# Final Analysis.\n",
    "print(\"Financial Analysis\")\n",
    "print(\"----------------------------\")\n",
    "print(\"Total Months: \", total_months)\n",
    "print(\"Total: \", net_total_income)\n",
    "print(\"Average Change: \", average_change)\n",
    "print(\"Greatest Increase in Profits: \", greatest_increase_in_profits)\n",
    "print(\"Greatest Decrease in Profits: \", greatest_decrease_in_profits)"
   ]
  }
 ],
 "metadata": {
  "kernelspec": {
   "display_name": "Python 3",
   "language": "python",
   "name": "python3"
  },
  "language_info": {
   "codemirror_mode": {
    "name": "ipython",
    "version": 3
   },
   "file_extension": ".py",
   "mimetype": "text/x-python",
   "name": "python",
   "nbconvert_exporter": "python",
   "pygments_lexer": "ipython3",
   "version": "3.8.5"
  }
 },
 "nbformat": 4,
 "nbformat_minor": 5
}
