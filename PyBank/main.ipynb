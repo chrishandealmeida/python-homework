{
 "cells": [
  {
   "cell_type": "code",
   "execution_count": 1,
   "id": "outdoor-guest",
   "metadata": {},
   "outputs": [],
   "source": [
    "# Import NumPy\n",
    "import numpy as np\n",
    "\n",
    "# Import the pathLib and CSV Library\n",
    "from pathlib import Path\n",
    "import csv\n",
    "\n",
    "# Set the file path\n",
    "csvpath = Path('../Pybank/budget_data.csv')"
   ]
  },
  {
   "cell_type": "code",
   "execution_count": 2,
   "id": "floating-tuner",
   "metadata": {},
   "outputs": [],
   "source": [
    "# Initialize variables to hold dates, profits/losses, \n",
    "# profit/loss change, and to export final text file\n",
    "months = []\n",
    "pnls = []\n",
    "pnl_change = []"
   ]
  },
  {
   "cell_type": "code",
   "execution_count": 3,
   "id": "strong-victor",
   "metadata": {},
   "outputs": [],
   "source": [
    "# Initialize line_num variable\n",
    "line_num = 0"
   ]
  },
  {
   "cell_type": "code",
   "execution_count": 4,
   "id": "enormous-dutch",
   "metadata": {},
   "outputs": [],
   "source": [
    "# Open the input path as a file object\n",
    "with open(csvpath, 'r') as csvfile:  \n",
    "    # Pass in the csv file to the csv.reader() funtion\n",
    "    # (with ',' as the delimiter/separator) and return the csvreader object\n",
    "    csvreader = csv.reader(csvfile, delimiter=',')   \n",
    "    # Go to the next row from the start of the file\n",
    "    # (which is often the first row/header) and iterate line_nim by 1\n",
    "    header = next(csvreader)\n",
    "    line_num += 1\n",
    "   \n",
    "    # Read each row of data after the header\n",
    "    for row in csvreader:\n",
    "        # Set month variable equal to the value in the 1st column of each row\n",
    "        month = (row[0])\n",
    "        # Append the row month value to the list of months\n",
    "        months.append(month)\n",
    "        # Set pnl variable equal to the value in the 2nd column of each row\n",
    "        pnl = int(row[1])\n",
    "        # Append the row pnl value to the list of pnls\n",
    "        pnls.append(pnl)"
   ]
  },
  {
   "cell_type": "code",
   "execution_count": 5,
   "id": "limiting-terrorist",
   "metadata": {},
   "outputs": [],
   "source": [
    "# Initialize metric variables\n",
    "total_months = 0\n",
    "net_total_income = 0\n",
    "average_change = 0\n",
    "max_month = 0\n",
    "max_increase = 0\n",
    "min_month = 0\n",
    "min_increase = 0"
   ]
  },
  {
   "cell_type": "code",
   "execution_count": 6,
   "id": "universal-ethiopia",
   "metadata": {},
   "outputs": [],
   "source": [
    "# The total number of months included in the dataset\n",
    "total_months = (len(months))"
   ]
  },
  {
   "cell_type": "code",
   "execution_count": 7,
   "id": "dress-launch",
   "metadata": {},
   "outputs": [],
   "source": [
    "# The net total amount of Profit/Losses over the entire period\n",
    "net_total_income = sum(pnls)"
   ]
  },
  {
   "cell_type": "code",
   "execution_count": 8,
   "id": "divine-disclaimer",
   "metadata": {},
   "outputs": [],
   "source": [
    "# The average of the changes in Profit/Losses over the entire period.\n",
    "\n",
    "# Create 'next_pnls' array for next month's profit/loss\n",
    "next_pnls = pnls[1:]\n",
    "\n",
    "# Create 'change' array for change in profit/loss \n",
    "# from this month to next month\n",
    "change = np.subtract(next_pnls, pnls[:-1])\n",
    "\n",
    "# Sum all the elements in the change array\n",
    "sum_change = sum(change)\n",
    "\n",
    "# Divide sum of change by number of elements in change array\n",
    "average_change=round(sum_change/len(change),2)"
   ]
  },
  {
   "cell_type": "code",
   "execution_count": 9,
   "id": "verified-carol",
   "metadata": {},
   "outputs": [],
   "source": [
    "# The greatest increase in profits (date and amount) over the entire period.\n",
    "\n",
    "# Create a list called 'pnl_change' containing the elements \n",
    "# from the change array (could only find index \n",
    "# function for lists and not arrays)\n",
    "pnl_change = change.tolist()\n",
    "\n",
    "# Set variable 'max_increase' to the maximum value in the change array\n",
    "max_increase = max(pnl_change)\n",
    "\n",
    "# Set 'max_position' to the index position of the \n",
    "#'max_increase' in 'pnl_change'\n",
    "max_position = pnl_change.index(max_increase)\n",
    "\n",
    "# Set 'max_month' to corresponding month of 'max_position' in 'months'. \n",
    "# ith change means the change between ith month and ith+1 month\n",
    "max_month = (months[max_position+1])"
   ]
  },
  {
   "cell_type": "code",
   "execution_count": 10,
   "id": "original-terrace",
   "metadata": {},
   "outputs": [],
   "source": [
    "# The greatest decrease in profits (date and amount) \n",
    "# over the entire period.\n",
    "\n",
    "# Set variable min_increase to the minimum value in the pnl_change list.\n",
    "min_increase = min(pnl_change)\n",
    "\n",
    "# Set 'min_position to the index position of the \n",
    "# 'min_increase' in 'pnl_change'\n",
    "min_position = pnl_change.index(min_increase)\n",
    "\n",
    "# Set 'min_month' to corresponding month of 'min_position' in 'months', \n",
    "# ith change means the change between ith month and ith+1 month\n",
    "min_month = (months[min_position+1])"
   ]
  },
  {
   "cell_type": "code",
   "execution_count": 11,
   "id": "contained-viewer",
   "metadata": {},
   "outputs": [
    {
     "name": "stdout",
     "output_type": "stream",
     "text": [
      "Financial Analysis\n",
      "----------------------------\n",
      "Total Months: 86\n",
      "Total: $38382578\n",
      "Average Change: $-2315.12\n",
      "Greatest Increase in Profits: Feb-2012 ($1926159)\n",
      "Greatest Decrease in Profits: Sep-2013 ($-2196167)\n"
     ]
    }
   ],
   "source": [
    "# Create formatted string output of Financial Analysis \n",
    "# and print to terminal and export to a text file\n",
    "\n",
    "output = \"\"\n",
    "output+=\"Financial Analysis\\n\"\n",
    "output+=\"----------------------------\\n\"\n",
    "output+=\"Total Months: \"+str(total_months)+\"\\n\"\n",
    "output+=\"Total:\"+' ${}'.format(net_total_income)+\"\\n\"\n",
    "output+=\"Average Change:\"+' ${}'.format(average_change)+\"\\n\"\n",
    "output+=\"Greatest Increase in Profits: \"+max_month+' (${})'.format(max_increase)+\"\\n\"\n",
    "output+=\"Greatest Decrease in Profits: \"+min_month+' (${})'.format(min_increase)\n",
    "print(output)\n",
    "\n",
    "outfile = open(\"output.txt\", \"w\")\n",
    "outfile.write(output)\n",
    "outfile.close()"
   ]
  }
 ],
 "metadata": {
  "kernelspec": {
   "display_name": "Python 3",
   "language": "python",
   "name": "python3"
  },
  "language_info": {
   "codemirror_mode": {
    "name": "ipython",
    "version": 3
   },
   "file_extension": ".py",
   "mimetype": "text/x-python",
   "name": "python",
   "nbconvert_exporter": "python",
   "pygments_lexer": "ipython3",
   "version": "3.8.5"
  }
 },
 "nbformat": 4,
 "nbformat_minor": 5
}
