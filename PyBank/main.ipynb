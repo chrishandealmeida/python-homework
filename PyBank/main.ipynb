{
 "cells": [
  {
   "cell_type": "code",
   "execution_count": 1,
   "id": "played-semester",
   "metadata": {},
   "outputs": [],
   "source": [
    "# Import sys\n",
    "import sys as sys\n",
    "\n",
    "# Import NumPy\n",
    "import numpy as np\n",
    "\n",
    "# Import the pathLib and CSV Library\n",
    "from pathlib import Path\n",
    "import csv\n",
    "\n",
    "# Set the file path\n",
    "csvpath = Path('../Pybank/budget_data.csv')"
   ]
  },
  {
   "cell_type": "code",
   "execution_count": 2,
   "id": "sitting-petroleum",
   "metadata": {},
   "outputs": [],
   "source": [
    "# Initialize variables to hold dates, profits/losses, profit/loss change, and to export final text file\n",
    "months = []\n",
    "pnls = []\n",
    "pnl_change = []"
   ]
  },
  {
   "cell_type": "code",
   "execution_count": 3,
   "id": "handmade-syntax",
   "metadata": {},
   "outputs": [],
   "source": [
    "# Initialize line_num variable\n",
    "line_num = 0"
   ]
  },
  {
   "cell_type": "code",
   "execution_count": 4,
   "id": "legislative-queen",
   "metadata": {},
   "outputs": [],
   "source": [
    "# Open the input path as a file object\n",
    "with open(csvpath, 'r') as csvfile:  \n",
    "    # Pass in the csv file to the csv.reader() funtion\n",
    "    # (with ',' as the delimiter/separator) and return the csvreader object\n",
    "    csvreader = csv.reader(csvfile, delimiter=',')   \n",
    "    # Go to the next row from the start of the file\n",
    "    # (which is often the first row/header) and iterate line_nim by 1\n",
    "    header = next(csvreader)\n",
    "    line_num += 1\n",
    "   \n",
    "    # Read each row of data after the header\n",
    "    for row in csvreader:\n",
    "        # Set month variable equal to the value in the 1st column of each row\n",
    "        month = (row[0])\n",
    "        # Append the row month value to the list of months\n",
    "        months.append(month)\n",
    "        # Set pnl variable equal to the value in the 2nd column of each row\n",
    "        pnl = int(row[1])\n",
    "        # Append the row pnl value to the list of pnls\n",
    "        pnls.append(pnl)"
   ]
  },
  {
   "cell_type": "code",
   "execution_count": 5,
   "id": "mature-apple",
   "metadata": {},
   "outputs": [],
   "source": [
    "# Initialize metric variables\n",
    "total_months = 0\n",
    "net_total_income = 0\n",
    "max_pnl = 0\n",
    "min_pnl = 0\n",
    "average_change = 0\n",
    "greatest_increase_in_profits = 0\n",
    "greatest_decrease_in_profits = 0"
   ]
  },
  {
   "cell_type": "code",
   "execution_count": 6,
   "id": "chronic-pressure",
   "metadata": {},
   "outputs": [],
   "source": [
    "# The total number of months included in the dataset\n",
    "total_months = (len(months))"
   ]
  },
  {
   "cell_type": "code",
   "execution_count": 7,
   "id": "desperate-myanmar",
   "metadata": {},
   "outputs": [],
   "source": [
    "# The net total amount of Profit/Losses over the entire period\n",
    "net_total_income = sum(pnls)"
   ]
  },
  {
   "cell_type": "code",
   "execution_count": 8,
   "id": "local-hawaii",
   "metadata": {},
   "outputs": [],
   "source": [
    "# The average of the changes in Profit/Losses over the entire period.\n",
    "\n",
    "# Create 'next_pnls' array for next month's profit/loss\n",
    "next_pnls = pnls[1:]\n",
    "\n",
    "# Create 'change' array for change in profit/loss from this month to next month\n",
    "change = np.subtract(next_pnls, pnls[:-1])\n",
    "\n",
    "# Sum all the elements in the change array\n",
    "sum_change = sum(change)\n",
    "\n",
    "# Divide sum of change by number of elements in change array\n",
    "average_change=round(sum_change/len(change),2)"
   ]
  },
  {
   "cell_type": "code",
   "execution_count": 9,
   "id": "naughty-bacon",
   "metadata": {},
   "outputs": [],
   "source": [
    "# The greatest increase in profits (date and amount) over the entire period.\n",
    "\n",
    "# Create a list called 'pnl_change' containing the elements from the change array (could only find index function for lists and not arrays)\n",
    "pnl_change = change.tolist()\n",
    "\n",
    "# Set variable 'max_increase' to the maximum value in the change array\n",
    "max_increase = max(pnl_change)\n",
    "\n",
    "# Set 'max_position' to the index position of the 'max_increase' in 'pnl_change'\n",
    "max_position = pnl_change.index(max_increase)\n",
    "\n",
    "# Set 'max_month' to corresponding month of 'max_position' in 'months'. ith change means the change between ith month and ith+1 month\n",
    "max_month = (months[max_position+1])"
   ]
  },
  {
   "cell_type": "code",
   "execution_count": 10,
   "id": "dated-terrain",
   "metadata": {},
   "outputs": [],
   "source": [
    "# The greatest decrease in profits (date and amount) over the entire period.\n",
    "\n",
    "# Set variable min_increase to the minimum value in the pnl_change list.\n",
    "min_increase = min(pnl_change)\n",
    "\n",
    "# Set 'min_position to the index position of the 'min_increase' in 'pnl_change'\n",
    "min_position = pnl_change.index(min_increase)\n",
    "\n",
    "# Set 'min_month' to corresponding month of 'min_position' in 'months', ith change means the change between ith month and ith+1 month\n",
    "min_month = (months[min_position+1])"
   ]
  },
  {
   "cell_type": "code",
   "execution_count": null,
   "id": "fabulous-sigma",
   "metadata": {},
   "outputs": [
    {
     "name": "stdout",
     "output_type": "stream",
     "text": [
      "Financial Analysis\n",
      "----------------------------\n",
      "Total Months:  86\n",
      "Total:  $38382578\n",
      "Average Change:  $-2315.12\n",
      "Greatest Increase in Profits: Feb-2012 ($1926159)\n",
      "Greatest Decrease in Profits: Sep-2013 ($-2196167)\n"
     ]
    }
   ],
   "source": [
    "# Print Financial Analysis in Terminal and Export to a text file\n",
    "\n",
    "print(\"Financial Analysis\")\n",
    "print(\"----------------------------\")\n",
    "print(\"Total Months: \", total_months)\n",
    "print(\"Total: \", '${}'.format(net_total_income))\n",
    "print(\"Average Change: \", '${}'.format(average_change))\n",
    "print(\"Greatest Increase in Profits:\",max_month, '(${})'.format(max_increase))\n",
    "print(\"Greatest Decrease in Profits:\",min_month, '(${})'.format(min_increase))\n",
    "\n",
    "# Export to text file\n",
    "\n",
    "sys.stdout = open(\"output.txt\", \"w\")\n",
    "\n",
    "print(\"Financial Analysis\")\n",
    "print(\"----------------------------\")\n",
    "print(\"Total Months: \", total_months)\n",
    "print(\"Total: \", '${}'.format(net_total_income))\n",
    "print(\"Average Change: \", '${}'.format(average_change))\n",
    "print(\"Greatest Increase in Profits:\",max_month, '(${})'.format(max_increase))\n",
    "print(\"Greatest Decrease in Profits:\",min_month, '(${})'.format(min_increase))\n",
    "\n",
    "sys.stdout.close()"
   ]
  }
 ],
 "metadata": {
  "kernelspec": {
   "display_name": "Python 3",
   "language": "python",
   "name": "python3"
  },
  "language_info": {
   "codemirror_mode": {
    "name": "ipython",
    "version": 3
   },
   "file_extension": ".py",
   "mimetype": "text/x-python",
   "name": "python",
   "nbconvert_exporter": "python",
   "pygments_lexer": "ipython3",
   "version": "3.8.5"
  }
 },
 "nbformat": 4,
 "nbformat_minor": 5
}
